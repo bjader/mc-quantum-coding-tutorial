{
 "cells": [
  {
   "cell_type": "code",
   "execution_count": 41,
   "metadata": {},
   "outputs": [],
   "source": [
    "import numpy as np\n",
    "from qiskit import *\n",
    "%matplotlib inline"
   ]
  },
  {
   "cell_type": "markdown",
   "metadata": {},
   "source": [
    "# How to code a quantum computer"
   ]
  },
  {
   "cell_type": "markdown",
   "metadata": {},
   "source": [
    "## Qubits\n",
    "\n",
    "A bit is the building block of all classical computation. It can be represented by any system that has two possible states, such as whether a voltage is passing through a transistor or not, or whether there is milk in the fridge or not. Typically it's easier to work with transistors. If there is no voltage passing through the transistor we call this the 0 state. If there is some voltage passing through we call this the 1 step.\n",
    "\n",
    "A **qubit** is the building block of all **quantum** computation. It can be represented by any **quantum** system that has two possible states. Because quantum mechanics is the physics that describes small things, typically qubits are built from small things like atoms. When that atom is sitting around doing nothing, we can call this the $|0\\rangle$ state. If we shine a laser at the atom, it absorbs some of this light and goes into a higher energy state. We can call this the $|1\\rangle$ state."
   ]
  },
  {
   "cell_type": "markdown",
   "metadata": {},
   "source": [
    "## Logic gates\n",
    "\n",
    "All quantum calculations are done by applying gates to qubits. One example is the $\\hat{X}$ gate, which flips the state of the qubit. So if we apply the $\\hat{X}$ gate to the $|0\\rangle$ state, our qubit will be left in the $|1\\rangle$ state. Similarly, if we apply the $\\hat{X}$ gate to the $|1\\rangle$ state, our qubit will be left in the $|0\\rangle$ state. Mathematically we write this as:\n",
    "\n",
    "$$\\hat{X}|0\\rangle = |1\\rangle$$\n",
    "$$\\hat{X}|1\\rangle = |0\\rangle$$"
   ]
  },
  {
   "cell_type": "markdown",
   "metadata": {},
   "source": [
    "## Quantum circuits \n",
    "\n",
    "Quantum circuits are the visual representation of any quantum algorithm. They contain classical bits, qubits, and logic gates. Ultimately, all of quantum computing involves writing code to create quantum circuits. With that in mind, lets make one!"
   ]
  },
  {
   "cell_type": "code",
   "execution_count": 44,
   "metadata": {},
   "outputs": [
    {
     "data": {
      "image/png": "[encoded data removed]",
      "text/plain": [
       "<Figure size 173.376x84.28 with 1 Axes>"
      ]
     },
     "execution_count": 44,
     "metadata": {},
     "output_type": "execute_result"
    }
   ],
   "source": [
    "# Create a quantum circuit with 1 qubit. By default it is created in a |0> state.\n",
    "qc = QuantumCircuit(1)\n",
    "\n",
    "# Apply a X gate to qubit 0\n",
    "qc.x(0)\n",
    "\n",
    "# See what the circuit looks like\n",
    "qc.draw(output='mpl')"
   ]
  },
  {
   "cell_type": "markdown",
   "metadata": {},
   "source": [
    "This circuit implements exactly the equation $\\hat{X}|0\\rangle = |1\\rangle$. If we were to measure the qubit (which we will do later), the result would be the $|1\\rangle$ state.\n",
    "\n",
    "## Task 1\n",
    "\n",
    "* Create a circuit with two qubits.\n",
    "* Apply a X gate to both of the qubits.\n",
    "* What would be the output state? Hint: for two qubits, we write the initial state as $|00\\rangle$."
   ]
  },
  {
   "cell_type": "code",
   "execution_count": 40,
   "metadata": {},
   "outputs": [
    {
     "data": {
      "image/png": "[encoded data removed]",
      "text/plain": [
       "<Figure size 173.376x84.28 with 1 Axes>"
      ]
     },
     "execution_count": 40,
     "metadata": {},
     "output_type": "execute_result"
    }
   ],
   "source": [
    "# Create a quantum circuit with 2 qubits. By default it is created in a |00> state.\n",
    "\n",
    "# Apply a X gate to qubit 0 and qubit 1.\n",
    "\n",
    "# See what the circuit looks like\n"
   ]
  },
  {
   "cell_type": "markdown",
   "metadata": {},
   "source": [
    "## Task 2\n",
    "\n",
    "* Create a circuit with five qubits.\n",
    "* Apply two X gates to the first qubit\n",
    "* Apply one X gate to all the other qubits\n",
    "* What would be the output state?"
   ]
  },
  {
   "cell_type": "code",
   "execution_count": 43,
   "metadata": {},
   "outputs": [],
   "source": [
    "# Create a quantum circuit with 5 qubits. By default it is created in a |00000> state.\n",
    "\n",
    "# Apply the gates\n",
    "\n",
    "# See what the circuit looks like\n"
   ]
  },
  {
   "cell_type": "markdown",
   "metadata": {},
   "source": [
    "# Superposition\n",
    "\n",
    "So far we have shown that qubits have two states, just like classical bits. This means that in theory, quantum computers can do everything a classical computer can do! However, qubits have an extra trick up their sleeve. They can exist in the following state:\n",
    "\n",
    "IMAGE OF EQUAL SUPERPOSITION, WITH ARROWS\n",
    "\n",
    "This is known as a **superposition** state, where the qubit exists in neither the $|0\\rangle$ or $|1\\rangle$ state! Instead, the qubit exists somewhere in between, as a combination of a bit of each state. \n",
    "\n",
    "The number in front of each state is known as the **amplitude**. When we measure a qubit, we break all of its quantum effects and observe it as either $|0\\rangle$ or $|1\\rangle$. The probability of observing it in the $|0\\rangle$ state is given by the amplitude squared. This is why in the above example, there is a $(\\frac{1}{\\sqrt{2}})^2 = \\frac{1}{2}$ chance of observing the qubit in either the $|0\\rangle$ or $|1\\rangle$ state.\n",
    "\n",
    "We can put a qubit in a superposition with **any** probability of being in each state, such as 80%-20% or 51%-49%. This, alongside amplitudes being complex numbers are not covered in this course."
   ]
  },
  {
   "cell_type": "code",
   "execution_count": null,
   "metadata": {},
   "outputs": [],
   "source": []
  },
  {
   "cell_type": "markdown",
   "metadata": {},
   "source": [
    "## The quantum 8-ball"
   ]
  },
  {
   "cell_type": "code",
   "execution_count": null,
   "metadata": {},
   "outputs": [],
   "source": []
  },
  {
   "cell_type": "markdown",
   "metadata": {},
   "source": [
    "### On a real device"
   ]
  },
  {
   "cell_type": "code",
   "execution_count": 4,
   "metadata": {},
   "outputs": [],
   "source": [
    "import qiskit.tools.jupyter  # This is the where the magic happens (literally).\n",
    "IBMQ.load_account()\n",
    "provider = IBMQ.get_provider(group='open')\n",
    "backend = provider.get_backend('ibmqx2')"
   ]
  },
  {
   "cell_type": "code",
   "execution_count": 22,
   "metadata": {},
   "outputs": [],
   "source": [
    "# %qiskit_backend_overview"
   ]
  },
  {
   "cell_type": "markdown",
   "metadata": {},
   "source": [
    "# Entanglement"
   ]
  },
  {
   "cell_type": "code",
   "execution_count": null,
   "metadata": {},
   "outputs": [],
   "source": []
  },
  {
   "cell_type": "markdown",
   "metadata": {},
   "source": [
    "## Creating and measuring entanglement"
   ]
  },
  {
   "cell_type": "code",
   "execution_count": null,
   "metadata": {},
   "outputs": [],
   "source": []
  },
  {
   "cell_type": "markdown",
   "metadata": {},
   "source": [
    "# Noise"
   ]
  },
  {
   "cell_type": "code",
   "execution_count": null,
   "metadata": {},
   "outputs": [],
   "source": []
  },
  {
   "cell_type": "markdown",
   "metadata": {},
   "source": [
    "## Quantum emojis"
   ]
  },
  {
   "cell_type": "code",
   "execution_count": null,
   "metadata": {},
   "outputs": [],
   "source": []
  },
  {
   "cell_type": "markdown",
   "metadata": {},
   "source": [
    "# Let's put it all together"
   ]
  },
  {
   "cell_type": "code",
   "execution_count": null,
   "metadata": {},
   "outputs": [],
   "source": []
  },
  {
   "cell_type": "markdown",
   "metadata": {},
   "source": [
    "## Quantum teleportation"
   ]
  },
  {
   "cell_type": "code",
   "execution_count": null,
   "metadata": {},
   "outputs": [],
   "source": []
  }
 ],
 "metadata": {
  "kernelspec": {
   "display_name": "Python 3",
   "language": "python",
   "name": "python3"
  },
  "language_info": {
   "codemirror_mode": {
    "name": "ipython",
    "version": 3
   },
   "file_extension": ".py",
   "mimetype": "text/x-python",
   "name": "python",
   "nbconvert_exporter": "python",
   "pygments_lexer": "ipython3",
   "version": "3.7.4"
  }
 },
 "nbformat": 4,
 "nbformat_minor": 2
}
